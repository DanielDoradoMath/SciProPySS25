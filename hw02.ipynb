{
 "cells": [
  {
   "cell_type": "markdown",
   "metadata": {
    "nbgrader": {
     "grade": false,
     "grade_id": "cell-515e01b25bda86a9",
     "locked": true,
     "schema_version": 3,
     "solution": false,
     "task": false
    }
   },
   "source": [
    "# Exercises and Homework for week 2"
   ]
  },
  {
   "cell_type": "markdown",
   "metadata": {
    "nbgrader": {
     "grade": false,
     "grade_id": "cell-14ca577e70096fbf",
     "locked": true,
     "schema_version": 3,
     "solution": false,
     "task": false
    }
   },
   "source": [
    "## physics725: Scientific Programming with Python (SS 2025)\n",
    "Matthias Schott & Thomas Erben"
   ]
  },
  {
   "cell_type": "markdown",
   "metadata": {},
   "source": [
    "### Group 06-02"
   ]
  },
  {
   "cell_type": "markdown",
   "metadata": {
    "nbgrader": {
     "grade": false,
     "grade_id": "cell-58e8949e2e41603c",
     "locked": true,
     "schema_version": 3,
     "solution": false,
     "task": false
    }
   },
   "source": [
    "Homework is due on **Thursday, 01/05/2025, 11:55pm**\n",
    "\n",
    " * You only learn a programming language by actively praticing and using it! We therefore **strongly** advise you to work on the homework problems.\n",
    " * Please discuss the problems with your student peers and with your tutor.\n",
    " * Your code(s) need(s) to be well and appropriately commented!\n",
    " * Submit your homework. Please ask your tutor if you do not know how to do it. **Please only submit one solution per homework group!**\n",
    "\n",
    "**Topics of this exercise:**\n",
    " * Scalar data types in Python *int*, *float* and *bool*\n",
    " * Control structures *if* and *while*\n",
    " * Floating poing accuracy\n",
    " * Implementation and analysis of simple algorithms"
   ]
  },
  {
   "cell_type": "markdown",
   "metadata": {},
   "source": [
    "# 1. Lecture review (0 points)"
   ]
  },
  {
   "cell_type": "markdown",
   "metadata": {},
   "source": [
    "If you did the lecture review questions [04_Lecture_Review.ipynb](04_Lecture_Review.ipynb) (strongly recommended!): \n",
    "Please discuss with your tutor and your group any issues/problems you had with them."
   ]
  },
  {
   "cell_type": "markdown",
   "metadata": {
    "tags": []
   },
   "source": [
    "# 2. Machine epsilon (5 points)\n",
    "In class we talked about inaccuracies that occur in a computer when performing operations with floating-point numbers. An important value to quantify floating-point accuracy is the *machine epsilon*. Please have a look at the [Wikipedia article on the machine epsilon](https://en.wikipedia.org/wiki/Machine_epsilon) to learn more about it. \n",
    "\n",
    "The *machine epsilon* is defined as the smallest number $\\epsilon_m$ such that $1.0 + \\epsilon_m > 1.0$. According to the Wikipedia article, the machine epsilon of your programming language can be estimated up to a factor of two with the algorithm:\n",
    "\n",
    "```\n",
    "epsilon_m = 1.0;\n",
    "\n",
    "while (1.0 + 0.5 * epsilon_m) > 1.0:\n",
    "    epsilon_m = 0.5 * epsilon_m\n",
    "\n",
    "```\n",
    "Use this algorithm to determine the *machine epsilon* of the Python-float type. Which float-type is used in Python (see the table of the Wikipedia article)?"
   ]
  },
  {
   "cell_type": "code",
   "execution_count": 1,
   "metadata": {},
   "outputs": [
    {
     "name": "stdout",
     "output_type": "stream",
     "text": [
      "2.220446049250313e-16\n"
     ]
    }
   ],
   "source": [
    "epsilon_m = 1.0    # Set initial guess for machine epsilon\n",
    "\n",
    "### This loop halfs the guess for the machine epsilon until it does not \n",
    "###     consider 1.0 + 0.5 * epsilon_m to be greater than 1.0\n",
    "\n",
    "while (1.0 + 0.5 * epsilon_m) > 1.0:\n",
    "    epsilon_m *= 0.5\n",
    "\n",
    "print(epsilon_m)    # Print the resulting estimate"
   ]
  },
  {
   "cell_type": "markdown",
   "metadata": {},
   "source": [
    "According to the Wikipedia article, the float type seems to be double precision, which has a precision of approximately `2.22e-16`."
   ]
  },
  {
   "cell_type": "markdown",
   "metadata": {},
   "source": [
    "# 3. Test of natural numbers for the prime property (10 points)"
   ]
  },
  {
   "cell_type": "markdown",
   "metadata": {},
   "source": [
    "In the following, we want to develop a program to test positive integer numbers for the prime property. A positive integer larger than 1 is a prime if it cannot be formed by multiplying two smaller natural numbers. \n",
    "\n",
    "The student Lydia Leibnitz proposes the following algorithm for the task:\n",
    "1. We are given a natural number $n$ that we want to test\n",
    "2. In a loop, we test whether `n % m == 0` for all natural numbers $m$ with $2\\leq m < \\sqrt{n}$\n",
    "3. If the test (2) is `True` for any of the tested $m$, then $n$ is not prime. Otherwise, we have a prime number.\n",
    "\n",
    "Lydia gives the following proof for the correctness of her algorithm:\n",
    "Divisors of $n$ come in pairs and say $n = ab$. Then **exactly one** of the two follwing possibilities can be true:\n",
    "1. $a < \\sqrt{n} \\text{ and } b > \\sqrt{n}$\n",
    "2. $a > \\sqrt{n} \\text{ and } b < \\sqrt{n}$\n",
    "\n",
    "To see this, we assume $a< \\sqrt{n} \\text{ and } b < \\sqrt{n}$. Then follows $n = ab < \\sqrt{n}\\sqrt{n} < n$ which leads to the contradiction $n<n$. Similarily, we conclude that not both, $a$ and $b$ can be larger than $\\sqrt{n}$. It follows that one of the divisors of $n$ must be smaller than $\\sqrt{n}$ and we only need to test $2\\leq m < \\sqrt{n}$ to check whether $n$ is a prime.\n",
    "\n",
    "Your tasks:\n",
    "1. Implement Lydias algorithm to test a given number $n$ for the prime property. Your program should report with a text-message, which number is tested and whether it is a prime or not.\n",
    "2. Test your program with the numbers 8, 105, 177, 51, 5, 47, 199 and 967. Your program should report the last four numbers as primes and the others as non-prime.\n",
    "3. Embed your test in a loop and consider systematically all numbers $2\\leq n \\leq 100$ for the prime property. What do you observe?\n",
    "4. (3.) should show you that your program does not work as expected! Find the underlying algorithmic problem and correct your program! Document within your notebook or script what the problem is!\n",
    "\n",
    "**Hint:** In the past, many students *did not find any problem* with their implemented algorithm. In that case, your first issue is that you did **not** implement the algorithm described above."
   ]
  },
  {
   "cell_type": "code",
   "execution_count": 2,
   "metadata": {
    "tags": []
   },
   "outputs": [
    {
     "name": "stdout",
     "output_type": "stream",
     "text": [
      "The number 19 is prime.\n"
     ]
    }
   ],
   "source": [
    "import numpy as np\n",
    "\n",
    "n = 19    # Number to be tested for primality\n",
    "\n",
    "m = 2     # Initial value for divisor test\n",
    "\n",
    "hasDivisor = False\n",
    "\n",
    "### The following loops over integers at least 2 but small than sqrt(n).\n",
    "### The loop breaks if a divisor has been found.\n",
    "\n",
    "while (m < np.sqrt(n)) and not hasDivisor:\n",
    "    hasDivisor = (n % m == 0)\n",
    "    m = m + 1\n",
    "\n",
    "    \n",
    "if hasDivisor:\n",
    "    print (\"The number {} is not prime.\".format(n))\n",
    "    \n",
    "else:\n",
    "    print (\"The number {} is prime.\".format(n))"
   ]
  },
  {
   "cell_type": "code",
   "execution_count": 3,
   "metadata": {},
   "outputs": [],
   "source": [
    "def primeTest (n):\n",
    "    \"\"\" Checks whether the integer n is prime using the suggested algorithm\n",
    "    \"\"\"\n",
    "    \n",
    "    m = 2     # Initial value for divisor test\n",
    "\n",
    "    hasDivisor = False\n",
    "    \n",
    "    ### The following loops over integers at least 2 but small than sqrt(n).\n",
    "    ### The loop breaks if a divisor has been found.\n",
    "    \n",
    "    while (m < np.sqrt(n)) and not hasDivisor:\n",
    "        hasDivisor = (n % m == 0)\n",
    "        m = m + 1\n",
    "    \n",
    "        \n",
    "    if hasDivisor:\n",
    "        print (\"The number {} is not prime.\".format(n))\n",
    "        \n",
    "    else:\n",
    "        print (\"The number {} is prime.\".format(n))"
   ]
  },
  {
   "cell_type": "code",
   "execution_count": 4,
   "metadata": {},
   "outputs": [
    {
     "name": "stdout",
     "output_type": "stream",
     "text": [
      "The number 8 is not prime.\n",
      "The number 105 is not prime.\n",
      "The number 177 is not prime.\n",
      "The number 51 is not prime.\n",
      "The number 5 is prime.\n",
      "The number 47 is prime.\n",
      "The number 199 is prime.\n",
      "The number 967 is prime.\n"
     ]
    }
   ],
   "source": [
    "testNums = [8, 105, 177, 51, 5, 47, 199, 967]\n",
    "\n",
    "for n in testNums:\n",
    "    primeTest(n)"
   ]
  },
  {
   "cell_type": "code",
   "execution_count": 5,
   "metadata": {
    "scrolled": true
   },
   "outputs": [
    {
     "name": "stdout",
     "output_type": "stream",
     "text": [
      "The number 2 is prime.\n",
      "The number 3 is prime.\n",
      "The number 4 is prime.\n",
      "The number 5 is prime.\n",
      "The number 6 is not prime.\n",
      "The number 7 is prime.\n",
      "The number 8 is not prime.\n",
      "The number 9 is prime.\n",
      "The number 10 is not prime.\n",
      "The number 11 is prime.\n",
      "The number 12 is not prime.\n",
      "The number 13 is prime.\n",
      "The number 14 is not prime.\n",
      "The number 15 is not prime.\n",
      "The number 16 is not prime.\n",
      "The number 17 is prime.\n",
      "The number 18 is not prime.\n",
      "The number 19 is prime.\n",
      "The number 20 is not prime.\n",
      "The number 21 is not prime.\n",
      "The number 22 is not prime.\n",
      "The number 23 is prime.\n",
      "The number 24 is not prime.\n",
      "The number 25 is prime.\n",
      "The number 26 is not prime.\n",
      "The number 27 is not prime.\n",
      "The number 28 is not prime.\n",
      "The number 29 is prime.\n",
      "The number 30 is not prime.\n",
      "The number 31 is prime.\n",
      "The number 32 is not prime.\n",
      "The number 33 is not prime.\n",
      "The number 34 is not prime.\n",
      "The number 35 is not prime.\n",
      "The number 36 is not prime.\n",
      "The number 37 is prime.\n",
      "The number 38 is not prime.\n",
      "The number 39 is not prime.\n",
      "The number 40 is not prime.\n",
      "The number 41 is prime.\n",
      "The number 42 is not prime.\n",
      "The number 43 is prime.\n",
      "The number 44 is not prime.\n",
      "The number 45 is not prime.\n",
      "The number 46 is not prime.\n",
      "The number 47 is prime.\n",
      "The number 48 is not prime.\n",
      "The number 49 is prime.\n",
      "The number 50 is not prime.\n",
      "The number 51 is not prime.\n",
      "The number 52 is not prime.\n",
      "The number 53 is prime.\n",
      "The number 54 is not prime.\n",
      "The number 55 is not prime.\n",
      "The number 56 is not prime.\n",
      "The number 57 is not prime.\n",
      "The number 58 is not prime.\n",
      "The number 59 is prime.\n",
      "The number 60 is not prime.\n",
      "The number 61 is prime.\n",
      "The number 62 is not prime.\n",
      "The number 63 is not prime.\n",
      "The number 64 is not prime.\n",
      "The number 65 is not prime.\n",
      "The number 66 is not prime.\n",
      "The number 67 is prime.\n",
      "The number 68 is not prime.\n",
      "The number 69 is not prime.\n",
      "The number 70 is not prime.\n",
      "The number 71 is prime.\n",
      "The number 72 is not prime.\n",
      "The number 73 is prime.\n",
      "The number 74 is not prime.\n",
      "The number 75 is not prime.\n",
      "The number 76 is not prime.\n",
      "The number 77 is not prime.\n",
      "The number 78 is not prime.\n",
      "The number 79 is prime.\n",
      "The number 80 is not prime.\n",
      "The number 81 is not prime.\n",
      "The number 82 is not prime.\n",
      "The number 83 is prime.\n",
      "The number 84 is not prime.\n",
      "The number 85 is not prime.\n",
      "The number 86 is not prime.\n",
      "The number 87 is not prime.\n",
      "The number 88 is not prime.\n",
      "The number 89 is prime.\n",
      "The number 90 is not prime.\n",
      "The number 91 is not prime.\n",
      "The number 92 is not prime.\n",
      "The number 93 is not prime.\n",
      "The number 94 is not prime.\n",
      "The number 95 is not prime.\n",
      "The number 96 is not prime.\n",
      "The number 97 is prime.\n",
      "The number 98 is not prime.\n",
      "The number 99 is not prime.\n",
      "The number 100 is not prime.\n"
     ]
    }
   ],
   "source": [
    "n = 2\n",
    "\n",
    "while n < 101:\n",
    "    primeTest(n)\n",
    "    n += 1"
   ]
  },
  {
   "cell_type": "markdown",
   "metadata": {},
   "source": [
    "The algorithm described above will claim that the squares of primes such as 25 and 49 are prime. This is because the algorithm does not consider the case in which $a = b = \\sqrt{n}$. This is fixed by redefining the function as follows."
   ]
  },
  {
   "cell_type": "code",
   "execution_count": 6,
   "metadata": {},
   "outputs": [],
   "source": [
    "def primeTest (n):\n",
    "    \"\"\" Checks whether the integer n is prime using the suggested algorithm\n",
    "    \"\"\"\n",
    "    \n",
    "    m = 2     # Initial value for divisor test\n",
    "\n",
    "    hasDivisor = False\n",
    "    \n",
    "    ### The following loops over integers at least 2 but small than sqrt(n).\n",
    "    ### The loop breaks if a divisor has been found.\n",
    "    \n",
    "    while (m < np.sqrt(n) + 1) and not hasDivisor and not (n==m):\n",
    "        hasDivisor = (n % m == 0)\n",
    "        m = m + 1\n",
    "    \n",
    "        \n",
    "    if hasDivisor:\n",
    "        print (\"The number {} is not prime.\".format(n))\n",
    "        \n",
    "    else:\n",
    "        print (\"The number {} is prime.\".format(n))"
   ]
  },
  {
   "cell_type": "code",
   "execution_count": 7,
   "metadata": {},
   "outputs": [
    {
     "name": "stdout",
     "output_type": "stream",
     "text": [
      "The number 25 is not prime.\n",
      "The number 2 is prime.\n"
     ]
    }
   ],
   "source": [
    "primeTest(25)\n",
    "primeTest(2)"
   ]
  },
  {
   "cell_type": "markdown",
   "metadata": {
    "jp-MarkdownHeadingCollapsed": true,
    "nbgrader": {
     "grade": false,
     "grade_id": "cell-5c20b7824c889804",
     "locked": true,
     "schema_version": 3,
     "solution": false,
     "task": false
    }
   },
   "source": [
    "# 4. Problems with an integral series (15 points)"
   ]
  },
  {
   "cell_type": "markdown",
   "metadata": {
    "nbgrader": {
     "grade": false,
     "grade_id": "cell-637b4ff9e037754d",
     "locked": true,
     "schema_version": 3,
     "solution": false,
     "task": false
    }
   },
   "source": [
    "Consider the sequence\n",
    "$$\n",
    "I_n=\\int_0^1 \\frac{x^{n}}{x+10}\\,\\mathrm{d}x; \\qquad n=1,2,\\dots\n",
    "$$\n",
    "We observe that\n",
    "\n",
    "\\begin{equation}\n",
    "I_n + 10I_{n-1} = \\int_0^1 \\frac{x^{n}+10x^{n-1}}{x+10}\\,\\mathrm{d}x =\n",
    "\\int_0^1 x^{n-1}\\,\\mathrm{d}x = \\frac 1n \\label{eq1}\\tag{1}.\n",
    "\\end{equation}\n",
    "\n",
    "This allows us to obtain $I_n$ with the following recurrence relation: \n",
    "\n",
    "\\begin{equation}\n",
    "I_n = \\frac 1n - 10I_{n-1} \\text{ with } \n",
    "I_0 = \\int_0^1 \\frac{1}{x+10}\\,\\mathrm{d}x = \\ln(11/10)\\approx 0.09531. \\label{eq2}\\tag{2}\n",
    "\\end{equation}\n",
    "\n",
    "One can show that the whole sequence converges to zero: $\\lim_{n\\to\\infty}I_n=0$. \n",
    "\n",
    "We want to numerically estimate $I_{20}$ by using eqs. \\ref{eq1} and \\ref{eq2} and we will calculate and print the first 20 elements of the series in a `while`-loop. \n",
    "\n",
    "There is a second, independent estimate of $I_{20}$ if we revert the first relation from eq. \\ref{eq2}:\n",
    "\\begin{equation}\n",
    "  I_{n-1} = \\frac 1{10}\\left(\\frac 1n -I_{n}\\right) \\text{ with } I_{50} = 0.\\label{eq3}\\tag{3}\n",
    "\\end{equation}\n",
    "This relation allows us to estimate $I_{50}, I_{49}, \\dots, I_{20}$.\n",
    "\n",
    "**Your tasks:**\n",
    "\n",
    "Perform the two experiments with the forward and with the reverse relation and argue which one of the results you trust. Please explain your observations.\n",
    "\n",
    "**Hints:** \n",
    " * Assume for the first case (forward relation) that $I_0$ is represented internally as a float number with an error, i.e. $I_0 = \\ln(11/10) + \\epsilon$, where $\\epsilon$ is the error. We know that $\\epsilon\\approx 10^{-18}$ for `Python` float numbers. What happens with $\\epsilon$ when you calculate new elements of the series? \n",
    " * for the logarithm you can use the numpy module with ```import numpy``` and use the defined function ```numpy.log(x)``` to obtain $\\ln(x)$!"
   ]
  },
  {
   "cell_type": "code",
   "execution_count": 8,
   "metadata": {},
   "outputs": [
    {
     "name": "stdout",
     "output_type": "stream",
     "text": [
      "7483.468021084803\n"
     ]
    }
   ],
   "source": [
    "# Your solution with the forward relation from eq. (2)\n",
    "\n",
    "In = np.log(11/10)    # Set initial value\n",
    "n = 1                 # Set counter\n",
    "\n",
    "while n < 21:         # The loop ends when the 20-th term in the sequence has been computed\n",
    "    In = 1/n - 10.*In   # Compute I[n] from I[n-1] according to eq. (2)\n",
    "    n += 1\n",
    "\n",
    "print(In)"
   ]
  },
  {
   "cell_type": "code",
   "execution_count": 9,
   "metadata": {},
   "outputs": [
    {
     "name": "stdout",
     "output_type": "stream",
     "text": [
      "0.004347035818028109\n"
     ]
    }
   ],
   "source": [
    "# Your solution with the reverse relation from eq. (3)\n",
    "\n",
    "In = 0      # Set value for I_50\n",
    "\n",
    "n = 50      # Set counter\n",
    "\n",
    "while n > 20:     # Loop ends as I_20 is computed\n",
    "    In = 0.1 * (1/n - In)  # Computes I[n-1] from I[n] according to eq. (3)\n",
    "\n",
    "    #  print(n-1, In)\n",
    "    \n",
    "    n -= 1\n",
    "\n",
    "print(In)"
   ]
  },
  {
   "cell_type": "markdown",
   "metadata": {},
   "source": [
    "The result using the forward algorithm is nonsensical as it is larger than 1. The reason why this happens is that the error becomes 10 times larger in each step for the forward estimate, whereas for the backward estimate, the error shrinks by a factor of 10 in each iteration. After the 20th iteration the error in $I_{20}$ is already of order $10^4$, assuming the error for $I_0$ is of order $10^{-16}$."
   ]
  },
  {
   "cell_type": "markdown",
   "metadata": {},
   "source": [
    "# 5. Another numerical estimate for the square-root of a positive number (20 points)"
   ]
  },
  {
   "cell_type": "markdown",
   "metadata": {},
   "source": [
    "in class, I showed you an algorithm to estimate the square root of a number. Here is another one:\n",
    "\n",
    "*We want to estimate the square root of a positive number $x$. We start with an arbitrary number $y_0>0$ and calculate the sequence $y_{n+1}=\\frac 12\\left(y_n+\\frac{x}{y_n}\\right)$. The sequence converges to $\\sqrt{x}$, i.e. $\\lim_{n\\to\\infty}y_n=\\sqrt{x}$*.\n",
    "\n",
    "Your tasks:\n",
    "\n",
    "1. Implement the algorithm in a Python-program. Start with $y_0=1$ and calculate the $y_i$ in a `while`-loop. Finish the loop when $|y_{n+1}-y_n| < \\epsilon$ with $\\epsilon=10^{-6}$. Consider $y_{n+1}$ as your estimate for $\\sqrt{x}$ and print $y_{n+1}$ and $y_{n+1}^2$ (the latter is a test for your estimate!).\n",
    "\n",
    "    **Hint:**\n",
    "\n",
    "    A function to obtain the absolute value of a float-number is `numpy.fabs`.\n"
   ]
  },
  {
   "cell_type": "code",
   "execution_count": 10,
   "metadata": {},
   "outputs": [],
   "source": [
    "import sys\n",
    "\n",
    "def sqrt (x, eps = 1.e-6, N = 10000):\n",
    "\n",
    "    y = 1.        # Sets initial estimate\n",
    "    y_prev = 0    # Records previous value\n",
    "\n",
    "\n",
    "    n = 0         # Iteration counter set to 0\n",
    "\n",
    "    while np.fabs(y - y_prev) > eps and n<N:\n",
    "        y_prev = y             # Previous value updated\n",
    "        y = 0.5 * (y + x/y)    # Computes next estimate\n",
    "\n",
    "        n += 1\n",
    "\n",
    "    if n == N:\n",
    "        print(\"Exceeded maximum number of iterations.\", file=sys.stderr)    # In case maximum number of iterations is exceeded, quit\n",
    "        return None\n",
    "    \n",
    "    return y"
   ]
  },
  {
   "cell_type": "markdown",
   "metadata": {},
   "source": [
    "\n",
    "2. Test your program with $x\\in \\{2, 5, 11, 49, 111, 225\\}$ and verify that the estimated square roots meet your expectations.\n"
   ]
  },
  {
   "cell_type": "code",
   "execution_count": 11,
   "metadata": {},
   "outputs": [
    {
     "name": "stdout",
     "output_type": "stream",
     "text": [
      "Test input: 2\t Square root estimate: 1.414213562373\t Square of estimate: 2.000000000000\n",
      "Test input: 5\t Square root estimate: 2.236067977500\t Square of estimate: 5.000000000001\n",
      "Test input: 11\t Square root estimate: 3.316624790355\t Square of estimate: 11.000000000000\n",
      "Test input: 49\t Square root estimate: 7.000000000000\t Square of estimate: 49.000000000000\n",
      "Test input: 111\t Square root estimate: 10.535653752853\t Square of estimate: 111.000000000000\n",
      "Test input: 225\t Square root estimate: 15.000000000000\t Square of estimate: 225.000000000000\n"
     ]
    }
   ],
   "source": [
    "testInputs = [2, 5, 11, 49, 111, 225]       # List of test numbers\n",
    "\n",
    "for x in testInputs:\n",
    "    sqrt_est = sqrt(x)\n",
    "    testVal = sqrt_est**2\n",
    "    print (\"Test input: {}\\t Square root estimate: {:.12f}\\t Square of estimate: {:.12f}\".format(x, sqrt_est, testVal))"
   ]
  },
  {
   "cell_type": "markdown",
   "metadata": {},
   "source": [
    "The estimate of the square root given by the algorithm above is within $10^{-12}$ of the expected square root, and its square is also close to the input value."
   ]
  },
  {
   "cell_type": "markdown",
   "metadata": {},
   "source": [
    "\n",
    "3. If we have available several algorithms for the same task, we would like to learn about the strengths and weaknesses of each (accuracy, reliability, robustness, performance). We would like to compare the lecture algorithm to the new one and verify whether one can estimate the square root more efficiently (with less iterations) than the other.\n",
    "\n",
    "    1. Run both algorithms to estimate square roots of different numbers up to a given accuracy $\\epsilon$ as defined in the algorithms. Print the number of iterations that each algorithm needs to reach the required $\\epsilon$. Please repeat the exercise for several values of $\\epsilon$. What do you observe?\n"
   ]
  },
  {
   "cell_type": "code",
   "execution_count": 12,
   "metadata": {},
   "outputs": [],
   "source": [
    "### In this cell we redefine the functions that estimate the square root to print the number of iterations, along with the estimate. \n",
    "\n",
    "def class_sqrt_it(x, eps, N = 10000):\n",
    "    \"\"\"\n",
    "    estimate the square root of x up to a given\n",
    "    accuracy eps (with number of iterations)\n",
    "    \"\"\"\n",
    "    a = 0.\n",
    "    b = x\n",
    "    middle = (a + b) / 2.\n",
    "    \n",
    "    n = 0\n",
    "    while (b - a) > eps and n < 1000:\n",
    "        if (middle**2) < x:\n",
    "            a = (a + b) / 2.\n",
    "        else:\n",
    "            b = (a + b) / 2.\n",
    "\n",
    "        middle = (a + b) / 2.\n",
    "        n = n + 1\n",
    "\n",
    "    if n == N:\n",
    "        print(\"Exceeded maximum number of iterations.\", file=sys.stderr)\n",
    "        return None\n",
    "\n",
    "    return middle, n\n",
    "\n",
    "def sqrt_it (x, eps = 1.e-6, N = 10000):\n",
    "\n",
    "    y = 1.        # Sets initial estimate\n",
    "    y_prev = 0    # Records previous value\n",
    "\n",
    "\n",
    "    n = 0         # Iteration counter set to 0\n",
    "\n",
    "    while np.fabs(y - y_prev) > eps and n<N:\n",
    "        y_prev = y             # Previous value updated\n",
    "        y = 0.5 * (y + x/y)    # Computes next estimate\n",
    "\n",
    "        n += 1\n",
    "\n",
    "    if n == N:\n",
    "        print(\"Exceeded maximum number of iterations.\", file=sys.stderr)    # In case maximum number of iterations is exceeded, quit\n",
    "        return None\n",
    "    \n",
    "    return y, n"
   ]
  },
  {
   "cell_type": "code",
   "execution_count": 13,
   "metadata": {},
   "outputs": [],
   "source": [
    "x = 125.\n",
    "epss = [10.0**(-n) for n in range(1,15)]\n",
    "\n",
    "HW_alg_its = []\n",
    "class_alg_its = []\n",
    "\n",
    "for eps in epss:\n",
    "    HW_alg_its += [sqrt_it(x, eps)[1]]\n",
    "    class_alg_its += [class_sqrt_it(x, eps)[1]]\n"
   ]
  },
  {
   "cell_type": "code",
   "execution_count": 14,
   "metadata": {},
   "outputs": [
    {
     "data": {
      "image/png": "[encoded data removed]",
      "text/plain": [
       "<Figure size 640x480 with 1 Axes>"
      ]
     },
     "metadata": {},
     "output_type": "display_data"
    }
   ],
   "source": [
    "import matplotlib.pyplot as plt\n",
    "\n",
    "plt.semilogx(epss, HW_alg_its, color='midnightblue', label='HW algorithm', marker=\"+\", ls='--')\n",
    "plt.semilogx(epss, class_alg_its, color='turquoise', label='class algorithm', marker=\"+\", ls='--')\n",
    "\n",
    "plt.xlabel('Tolerance')\n",
    "plt.ylabel('Iterations')\n",
    "plt.title('Number of iterations to estimate square root of {}'.format(x))\n",
    "plt.legend()\n",
    "\n",
    "plt.show()"
   ]
  },
  {
   "cell_type": "code",
   "execution_count": 15,
   "metadata": {},
   "outputs": [],
   "source": [
    "### We now redo this for the test inputs above\n",
    "\n",
    "big_HW_its = []\n",
    "big_class_its = []\n",
    "\n",
    "for x in testInputs:\n",
    "\n",
    "    HW_alg_its = []\n",
    "    class_alg_its = []\n",
    "\n",
    "    for eps in epss:\n",
    "        HW_alg_its += [sqrt_it(x, eps)[1]]\n",
    "        class_alg_its += [class_sqrt_it(x, eps)[1]]\n",
    "\n",
    "    big_HW_its += [HW_alg_its]\n",
    "    big_class_its += [class_alg_its]"
   ]
  },
  {
   "cell_type": "code",
   "execution_count": 16,
   "metadata": {},
   "outputs": [
    {
     "data": {
      "image/png": "[encoded data removed]",
      "text/plain": [
       "<Figure size 1000x1000 with 6 Axes>"
      ]
     },
     "metadata": {},
     "output_type": "display_data"
    }
   ],
   "source": [
    "fig, ax = plt.subplots(3,2, figsize=(10,10), sharey='row', layout='constrained')\n",
    "ax = ax.reshape(-1)\n",
    "\n",
    "for n, x in enumerate(testInputs):\n",
    "    ax[n].semilogx(epss, big_HW_its[n], color='midnightblue', label='HW algorithm', marker=\"+\", ls='--')\n",
    "    ax[n].semilogx(epss, big_class_its[n], color='turquoise', label='class algorithm', marker=\"+\", ls='--')\n",
    "    \n",
    "    # ax[n].xlabel('Tolerance')\n",
    "    # ax[n].ylabel('Iterations')\n",
    "    ax[n].title.set_text('x = {}'.format(x))\n",
    "    # ax[n].legend()\n",
    "\n",
    "    if n==0:\n",
    "        ax[n].legend()\n",
    "    \n",
    "fig.supylabel('Number of iterations')\n",
    "fig.supxlabel('Tolerance')\n",
    "fig.suptitle(r'Number of iterations to estimate $\\sqrt{x}$')\n",
    "\n",
    "plt.show()"
   ]
  },
  {
   "cell_type": "markdown",
   "metadata": {},
   "source": [
    "3. \n",
    "     2. Modify your codes to print in each iteration $n$ of the square-root estimation:\n",
    "          1. The values $\\epsilon_{n}$ and $\\epsilon_{n} / \\epsilon_{n-1}$ for the lecture algorithm. $\\epsilon_{n}$ is the estimate of $\\epsilon$ for iteration $n$ and  $\\epsilon_{n-1}$ the corresponding value for iteration $n-1$.\n",
    "          2. The values $\\epsilon_{n}$ and $\\epsilon_{n} / \\epsilon_{n-1}^{2}$ for the homework algorithm.\n",
    "     3. Describe your observations of 3(A) and 3(B). What do they mean for the convergence speed of the two algorithms."
   ]
  },
  {
   "cell_type": "code",
   "execution_count": 17,
   "metadata": {},
   "outputs": [],
   "source": [
    "### In this cell we redefine the functions that estimate the square root to print the number of iterations, along with the estimate. \n",
    "\n",
    "def class_sqrt_error(x, eps = 1.e-10, N = 10000):\n",
    "    \"\"\"\n",
    "    estimate the square root of x up to a given\n",
    "    accuracy eps (with number of iterations)\n",
    "    \"\"\"\n",
    "    a = 0.\n",
    "    b = x\n",
    "    middle = (a + b) / 2.\n",
    "\n",
    "    y_prev = 0      # Records value at previous iteration\n",
    "    err_prev = 1    # Records error at previous iteration; set initially at 1 to avoid div. by zero\n",
    "    \n",
    "    n = 0\n",
    "    while (b - a) > eps and n < 1000:\n",
    "        y_prev = middle\n",
    "        \n",
    "        if (middle**2) < x:\n",
    "            a = (a + b) / 2.\n",
    "        else:\n",
    "            b = (a + b) / 2.\n",
    "\n",
    "        middle = (a + b) / 2.\n",
    "        n = n + 1\n",
    "\n",
    "        err = np.abs(middle - y_prev)   # Computes the error\n",
    "\n",
    "        print ('Iteration: {} \\t Error est.: {} \\t Ratio of it. error: {}'.format(n, err, err/err_prev))\n",
    "\n",
    "        err_prev = err    # Saves error for comparison in next iteration\n",
    "\n",
    "    if n == N:\n",
    "        print(\"Exceeded maximum number of iterations.\", file=sys.stderr)\n",
    "        return None\n",
    "\n",
    "    return middle\n",
    "\n",
    "def sqrt_error (x, eps = 1.e-10, N = 10000):\n",
    "\n",
    "    y = 1.        # Sets initial estimate\n",
    "    y_prev = 0    # Records previous value\n",
    "\n",
    "    err_prev = 1  # Records previous error; set initially at 1 to avoid div. by zero\n",
    "\n",
    "\n",
    "    n = 0         # Iteration counter set to 0\n",
    "\n",
    "    while np.fabs(y - y_prev) > eps and n<N:\n",
    "        y_prev = y             # Previous value updated\n",
    "        y = 0.5 * (y + x/y)    # Computes next estimate\n",
    "\n",
    "        err = np.abs(y - y_prev)    # Computes the error\n",
    "\n",
    "        n += 1\n",
    "\n",
    "        print ('Iteration: {} \\t Error est.: {} \\t Ratio of it. error: {}'.format(n, err, err/(err_prev)))\n",
    "\n",
    "        err_prev = err   # Saves current error for comparison in next iteration\n",
    "\n",
    "    if n == N:\n",
    "        print(\"Exceeded maximum number of iterations.\", file=sys.stderr)    # In case maximum number of iterations is exceeded, quit\n",
    "        return None\n",
    "    \n",
    "    return y"
   ]
  },
  {
   "cell_type": "code",
   "execution_count": 18,
   "metadata": {},
   "outputs": [
    {
     "name": "stdout",
     "output_type": "stream",
     "text": [
      "Iteration: 1 \t Error est.: 112.0 \t Ratio of it. error: 112.0\n",
      "Iteration: 2 \t Error est.: 55.50442477876106 \t Ratio of it. error: 0.49557522123893805\n",
      "Iteration: 3 \t Error est.: 26.79111530032241 \t Ratio of it. error: 0.48268431583807914\n",
      "Iteration: 4 \t Error est.: 11.688267126076585 \t Ratio of it. error: 0.4362740033422918\n",
      "Iteration: 5 \t Error est.: 3.5920856999197355 \t Ratio of it. error: 0.3073240593471528\n",
      "Iteration: 6 \t Error est.: 0.41827639020405094 \t Ratio of it. error: 0.11644387833324724\n",
      "Iteration: 7 \t Error est.: 0.005829571919239385 \t Ratio of it. error: 0.013937128787966015\n",
      "Iteration: 8 \t Error est.: 1.1327968731933424e-06 \t Ratio of it. error: 0.00019431904930356268\n",
      "Iteration: 9 \t Error est.: 4.263256414560601e-14 \t Ratio of it. error: 3.763478268211075e-08\n"
     ]
    },
    {
     "data": {
      "text/plain": [
       "15.0"
      ]
     },
     "execution_count": 18,
     "metadata": {},
     "output_type": "execute_result"
    }
   ],
   "source": [
    "sqrt_error(225)"
   ]
  },
  {
   "cell_type": "code",
   "execution_count": 19,
   "metadata": {},
   "outputs": [
    {
     "name": "stdout",
     "output_type": "stream",
     "text": [
      "Iteration: 1 \t Error est.: 56.25 \t Ratio of it. error: 56.25\n",
      "Iteration: 2 \t Error est.: 28.125 \t Ratio of it. error: 0.5\n",
      "Iteration: 3 \t Error est.: 14.0625 \t Ratio of it. error: 0.5\n",
      "Iteration: 4 \t Error est.: 7.03125 \t Ratio of it. error: 0.5\n",
      "Iteration: 5 \t Error est.: 3.515625 \t Ratio of it. error: 0.5\n",
      "Iteration: 6 \t Error est.: 1.7578125 \t Ratio of it. error: 0.5\n",
      "Iteration: 7 \t Error est.: 0.87890625 \t Ratio of it. error: 0.5\n",
      "Iteration: 8 \t Error est.: 0.439453125 \t Ratio of it. error: 0.5\n",
      "Iteration: 9 \t Error est.: 0.2197265625 \t Ratio of it. error: 0.5\n",
      "Iteration: 10 \t Error est.: 0.10986328125 \t Ratio of it. error: 0.5\n",
      "Iteration: 11 \t Error est.: 0.054931640625 \t Ratio of it. error: 0.5\n",
      "Iteration: 12 \t Error est.: 0.0274658203125 \t Ratio of it. error: 0.5\n",
      "Iteration: 13 \t Error est.: 0.01373291015625 \t Ratio of it. error: 0.5\n",
      "Iteration: 14 \t Error est.: 0.006866455078125 \t Ratio of it. error: 0.5\n",
      "Iteration: 15 \t Error est.: 0.0034332275390625 \t Ratio of it. error: 0.5\n",
      "Iteration: 16 \t Error est.: 0.00171661376953125 \t Ratio of it. error: 0.5\n",
      "Iteration: 17 \t Error est.: 0.000858306884765625 \t Ratio of it. error: 0.5\n",
      "Iteration: 18 \t Error est.: 0.0004291534423828125 \t Ratio of it. error: 0.5\n",
      "Iteration: 19 \t Error est.: 0.00021457672119140625 \t Ratio of it. error: 0.5\n",
      "Iteration: 20 \t Error est.: 0.00010728836059570312 \t Ratio of it. error: 0.5\n",
      "Iteration: 21 \t Error est.: 5.364418029785156e-05 \t Ratio of it. error: 0.5\n",
      "Iteration: 22 \t Error est.: 2.682209014892578e-05 \t Ratio of it. error: 0.5\n",
      "Iteration: 23 \t Error est.: 1.341104507446289e-05 \t Ratio of it. error: 0.5\n",
      "Iteration: 24 \t Error est.: 6.705522537231445e-06 \t Ratio of it. error: 0.5\n",
      "Iteration: 25 \t Error est.: 3.3527612686157227e-06 \t Ratio of it. error: 0.5\n",
      "Iteration: 26 \t Error est.: 1.6763806343078613e-06 \t Ratio of it. error: 0.5\n",
      "Iteration: 27 \t Error est.: 8.381903171539307e-07 \t Ratio of it. error: 0.5\n",
      "Iteration: 28 \t Error est.: 4.1909515857696533e-07 \t Ratio of it. error: 0.5\n",
      "Iteration: 29 \t Error est.: 2.0954757928848267e-07 \t Ratio of it. error: 0.5\n",
      "Iteration: 30 \t Error est.: 1.0477378964424133e-07 \t Ratio of it. error: 0.5\n",
      "Iteration: 31 \t Error est.: 5.2386894822120667e-08 \t Ratio of it. error: 0.5\n",
      "Iteration: 32 \t Error est.: 2.6193447411060333e-08 \t Ratio of it. error: 0.5\n",
      "Iteration: 33 \t Error est.: 1.3096723705530167e-08 \t Ratio of it. error: 0.5\n",
      "Iteration: 34 \t Error est.: 6.548361852765083e-09 \t Ratio of it. error: 0.5\n",
      "Iteration: 35 \t Error est.: 3.2741809263825417e-09 \t Ratio of it. error: 0.5\n",
      "Iteration: 36 \t Error est.: 1.6370904631912708e-09 \t Ratio of it. error: 0.5\n",
      "Iteration: 37 \t Error est.: 8.185452315956354e-10 \t Ratio of it. error: 0.5\n",
      "Iteration: 38 \t Error est.: 4.092726157978177e-10 \t Ratio of it. error: 0.5\n",
      "Iteration: 39 \t Error est.: 2.0463630789890885e-10 \t Ratio of it. error: 0.5\n",
      "Iteration: 40 \t Error est.: 1.0231815394945443e-10 \t Ratio of it. error: 0.5\n",
      "Iteration: 41 \t Error est.: 5.1159076974727213e-11 \t Ratio of it. error: 0.5\n",
      "Iteration: 42 \t Error est.: 2.5579538487363607e-11 \t Ratio of it. error: 0.5\n"
     ]
    },
    {
     "data": {
      "text/plain": [
       "15.000000000011937"
      ]
     },
     "execution_count": 19,
     "metadata": {},
     "output_type": "execute_result"
    }
   ],
   "source": [
    "class_sqrt_error(225)"
   ]
  },
  {
   "cell_type": "markdown",
   "metadata": {},
   "source": [
    "For the algorithm introduced in class, the estimate for the error is always equal to one half, whereas for the algorithm we consider here, the error changes from iteration to the next but is significantly smaller. This translates to the latter converging much faster, i.e. after fewer iterations."
   ]
  }
 ],
 "metadata": {
  "celltoolbar": "Create Assignment",
  "kernelspec": {
   "display_name": "SciProPy",
   "language": "python",
   "name": "python3"
  },
  "language_info": {
   "codemirror_mode": {
    "name": "ipython",
    "version": 3
   },
   "file_extension": ".py",
   "mimetype": "text/x-python",
   "name": "python",
   "nbconvert_exporter": "python",
   "pygments_lexer": "ipython3",
   "version": "3.9.6"
  }
 },
 "nbformat": 4,
 "nbformat_minor": 4
}
